{
  "nbformat": 4,
  "nbformat_minor": 0,
  "metadata": {
    "colab": {
      "provenance": []
    },
    "kernelspec": {
      "name": "python3",
      "display_name": "Python 3"
    },
    "language_info": {
      "name": "python"
    }
  },
  "cells": [
    {
      "cell_type": "code",
      "execution_count": 1,
      "metadata": {
        "colab": {
          "base_uri": "https://localhost:8080/"
        },
        "id": "1hSEZ9nC33k0",
        "outputId": "c37ab980-3b55-4057-8f04-018ee0ce1bda"
      },
      "outputs": [
        {
          "output_type": "stream",
          "name": "stdout",
          "text": [
            "200\n"
          ]
        }
      ],
      "source": [
        "import requests\n",
        "\n",
        "res= requests.get('https://www.google.com/')\n",
        "\n",
        "print(res.status_code)"
      ]
    },
    {
      "cell_type": "code",
      "source": [
        "res.text[:400]"
      ],
      "metadata": {
        "id": "RBbs8X9s4G_g",
        "outputId": "cf70db73-d924-4b7a-cea4-15ce56a68540",
        "colab": {
          "base_uri": "https://localhost:8080/",
          "height": 90
        }
      },
      "execution_count": 3,
      "outputs": [
        {
          "output_type": "execute_result",
          "data": {
            "text/plain": [
              "'<!doctype html><html itemscope=\"\" itemtype=\"http://schema.org/WebPage\" lang=\"nl\"><head><meta content=\"text/html; charset=UTF-8\" http-equiv=\"Content-Type\"><meta content=\"/images/branding/googleg/1x/googleg_standard_color_128dp.png\" itemprop=\"image\"><title>Google</title><script nonce=\"EfRzi1kJzSZc7vFmau6pyQ\">(function(){window.google={kEI:\\'QlzbY9vQNPy29u8PnYWcmAY\\',kEXPI:\\'0,1359409,6059,206,4804,2316'"
            ],
            "application/vnd.google.colaboratory.intrinsic+json": {
              "type": "string"
            }
          },
          "metadata": {},
          "execution_count": 3
        }
      ]
    }
  ]
}